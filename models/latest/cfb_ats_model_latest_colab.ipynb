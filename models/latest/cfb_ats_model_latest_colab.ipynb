{
  "cells": [
    {
      "cell_type": "code",
      "execution_count": null,
      "metadata": {
        "id": "XhTW1Fa_W3Hr"
      },
      "outputs": [],
      "source": [
        "import pandas as pd\n",
        "import google\n",
        "from sklearn.model_selection import train_test_split\n",
        "from sklearn.preprocessing import StandardScaler, LabelEncoder\n",
        "from sklearn.linear_model import LogisticRegression\n",
        "from sklearn.pipeline import Pipeline\n",
        "from sklearn.metrics import classification_report, accuracy_score\n",
        "import joblib\n",
        "from google.colab import drive\n",
        "import numpy as np"
      ]
    },
    {
      "cell_type": "code",
      "execution_count": null,
      "metadata": {
        "id": "5G4S4cCztx79"
      },
      "outputs": [],
      "source": [
        "# Replace with your file access paradigm\n",
        "drive.mount('/content/drive/', force_remount=True)\n",
        "file_path = \"{Your filepath here}\"\n",
        "df = pd.read_csv(file_path)"
      ]
    },
    {
      "cell_type": "markdown",
      "metadata": {
        "id": "-2ZSbkdGxOtq"
      },
      "source": [
        "**All Columns**"
      ]
    },
    {
      "cell_type": "code",
      "execution_count": null,
      "metadata": {
        "id": "qkyvUPb2xQW6"
      },
      "outputs": [],
      "source": [
        "\n",
        "# Initial set of features from the datafile that can be considered in the\n",
        "features = [\"season\", \"week\", \"neutral\", \"conference_game\", \"venue_id\",\n",
        "            \"home_team_id\", \"home_in_acc\", \"home_in_aac\", \"home_in_big12\",\n",
        "            \"home_in_big10\", \"home_in_cusa\", \"home_independent\", \"home_in_mac\",\n",
        "            \"home_in_mwc\", \"home_in_pac12\", \"home_in_sec\", \"home_in_sunbelt\",\n",
        "            \"home_time_change\", \"away_team_id\", \"away_in_acc\", \"away_in_aac\",\n",
        "            \"away_in_big12\", \"away_in_big10\", \"away_in_cusa\",\n",
        "            \"away_independent\", \"away_in_mac\", \"away_in_mwc\", \"away_in_pac12\",\n",
        "            \"away_in_sec\", \"away_in_sunbelt\", \"away_fcs\", \"away_time_change\",\n",
        "            \"home_coach_interim\", \"away_coach_interim\", \"tenure_delta\",\n",
        "            \"spread\", \"home_favorite\", \"temperature\", \"dew_point\", \"humidity\",\n",
        "            \"precipitation\", \"wind_speed\", \"weather_condition\",\n",
        "            \"home_pregame_elo\", \"replaced_home_elo\", \"away_pregame_elo\",\n",
        "            \"over_under\",\"game_indoors\", \"wind_dir\", \"atm_pressure\"]"
      ]
    },
    {
      "cell_type": "code",
      "execution_count": null,
      "metadata": {
        "id": "3pIkOOGTu57I"
      },
      "outputs": [],
      "source": [
        "# Split the file into games that have already happened and games that are upcoming.\n",
        "# The file only has games through the upcoming week, week 6.\n",
        "\n",
        "past_games_df = df[df[\"covered\"].notna()].copy()\n",
        "future_games_df = df[df[\"covered\"].isna()].copy()\n",
        "\n",
        "X = past_games_df[features]\n",
        "y = past_games_df[\"covered\"]\n",
        "\n",
        "X_train, X_test, y_train, y_test = train_test_split(X, y, test_size=0.2,\n",
        "                                                    random_state=42, stratify=y)"
      ]
    },
    {
      "cell_type": "markdown",
      "metadata": {
        "id": "KHkweFSlV1P8"
      },
      "source": [
        "**Baseline Models**"
      ]
    },
    {
      "cell_type": "code",
      "execution_count": null,
      "metadata": {
        "id": "g7PGxJcOzcXz"
      },
      "outputs": [],
      "source": [
        "from sklearn.linear_model import LogisticRegression\n",
        "from sklearn.tree import DecisionTreeClassifier\n",
        "from sklearn.ensemble import RandomForestClassifier, GradientBoostingClassifier\n",
        "from sklearn.metrics import classification_report\n",
        "\n",
        "models = {\n",
        "    \"Logistic Regression\": LogisticRegression(max_iter=500),\n",
        "    \"Decision Tree\": DecisionTreeClassifier(max_depth=10),\n",
        "    \"Random Forest\": RandomForestClassifier(n_estimators=300, random_state=42, class_weight=\"balanced\"),\n",
        "    \"Gradient Boosting\": GradientBoostingClassifier(random_state=42)\n",
        "}\n",
        "\n",
        "for name, model in models.items():\n",
        "    model.fit(X_train, y_train)\n",
        "    preds = model.predict(X_test)\n",
        "    print(f\"=== {name} ===\")\n",
        "    print(classification_report(y_test, preds))\n",
        "    print()\n"
      ]
    },
    {
      "cell_type": "code",
      "execution_count": null,
      "metadata": {
        "id": "O6bZWmrYtptz"
      },
      "outputs": [],
      "source": [
        "# Look at mutual information values to determine which features might be irrelevant\n",
        "from sklearn.feature_selection import mutual_info_classif\n",
        "mi = mutual_info_classif(X, y, discrete_features='auto')\n",
        "mi_series = pd.Series(mi, index=X.columns).sort_values(ascending=False)\n",
        "print(mi_series)"
      ]
    },
    {
      "cell_type": "markdown",
      "metadata": {
        "id": "ZIuYkumKr715"
      },
      "source": [
        "**Try to remove some features and encode team IDs**"
      ]
    },
    {
      "cell_type": "code",
      "execution_count": null,
      "metadata": {
        "id": "wzXWbUb-r-Q9"
      },
      "outputs": [],
      "source": [
        "# Keep some that seem like they could be relevant with features yet to be\n",
        "# identified\n",
        "trimmed_features = [\"neutral\", \"conference_game\",\n",
        "            \"home_in_acc\", \"home_in_aac\", \"home_in_big12\",\n",
        "            \"home_in_big10\", \"home_in_cusa\", \"home_independent\", \"home_in_mac\",\n",
        "            \"home_in_mwc\", \"home_in_pac12\", \"home_in_sec\", \"home_in_sunbelt\",\n",
        "            \"home_time_change\", \"away_in_acc\", \"away_in_aac\",\n",
        "            \"away_in_big12\", \"away_in_big10\", \"away_in_cusa\",\n",
        "            \"away_independent\", \"away_in_mac\", \"away_in_mwc\", \"away_in_pac12\",\n",
        "            \"away_in_sec\", \"away_in_sunbelt\", \"away_fcs\", \"away_time_change\",\n",
        "            \"home_coach_interim\", \"away_coach_interim\", \"tenure_delta\",\n",
        "            \"spread\", \"home_favorite\", \"temperature\", \"dew_point\", \"humidity\",\n",
        "            \"precipitation\", \"weather_condition\",\n",
        "            \"home_pregame_elo\", \"away_pregame_elo\",\n",
        "            \"wind_dir\", \"atm_pressure\"]"
      ]
    },
    {
      "cell_type": "code",
      "execution_count": null,
      "metadata": {
        "id": "urqlG341NBiY"
      },
      "outputs": [],
      "source": [
        "pip install scikit-learn category-encoders"
      ]
    },
    {
      "cell_type": "markdown",
      "metadata": {
        "id": "hHGFGpkrYbRx"
      },
      "source": [
        "Create a random forest model for now, try other ones later."
      ]
    },
    {
      "cell_type": "code",
      "execution_count": null,
      "metadata": {
        "id": "dP7jWvIuM6HN"
      },
      "outputs": [],
      "source": [
        "\n",
        "from sklearn.model_selection import StratifiedKFold, cross_validate\n",
        "from sklearn.compose import ColumnTransformer\n",
        "from sklearn.pipeline import Pipeline\n",
        "from sklearn.impute import SimpleImputer\n",
        "from sklearn.preprocessing import OneHotEncoder\n",
        "from sklearn.metrics import make_scorer, f1_score, roc_auc_score, precision_score, recall_score\n",
        "from category_encoders import TargetEncoder\n",
        "\n",
        "# Split into observed and future games\n",
        "df_train = df[df[\"covered\"].notna()].copy()\n",
        "df_future = df[df[\"covered\"].isna()].copy()\n",
        "\n",
        "y = df_train[\"covered\"]\n",
        "\n",
        "# Remove some of the irrelevant features\n",
        "num_cols = trimmed_features\n",
        "\n",
        "highcard_cols = [\"home_team_id\",\"away_team_id\"]  # target-encode these\n",
        "\n",
        "\n",
        "use_cols = [c for c in (num_cols + highcard_cols)]\n",
        "\n",
        "X = df_train[use_cols].copy()\n",
        "\n",
        "# --- 3) Preprocess: impute, encode ---\n",
        "# TargetEncoder is applied inside the CV pipeline => no leakage\n",
        "preprocess = ColumnTransformer(\n",
        "    transformers=[\n",
        "        (\"tgt\", TargetEncoder(cols=[c for c in highcard_cols if c in X.columns],\n",
        "                              smoothing=5.0, min_samples_leaf=20),\n",
        "                [c for c in highcard_cols if c in X.columns]),\n",
        "    ],\n",
        "    remainder=\"drop\",\n",
        "    verbose_feature_names_out=False\n",
        ")\n",
        "\n",
        "# Create a random forest model\n",
        "model = RandomForestClassifier(\n",
        "    n_estimators=500,\n",
        "    max_depth=5,\n",
        "    min_samples_leaf=2,\n",
        "    class_weight=\"balanced\",\n",
        "    random_state=42,\n",
        "    n_jobs=-1\n",
        ")\n",
        "\n",
        "pipe = Pipeline([\n",
        "    (\"prep\", preprocess),\n",
        "    (\"clf\", model)\n",
        "])\n",
        "\n",
        "# --- 5) K-fold CV (stratified) ---\n",
        "cv = StratifiedKFold(n_splits=5, shuffle=True, random_state=42)\n",
        "scoring = {\n",
        "    \"acc\": make_scorer(accuracy_score),\n",
        "    \"f1\": make_scorer(f1_score),\n",
        "    \"roc_auc\": make_scorer(roc_auc_score),\n",
        "    \"prec\": make_scorer(precision_score),\n",
        "    \"rec\": make_scorer(recall_score),\n",
        "}\n",
        "\n",
        "cv_res = cross_validate(pipe, X, y, scoring=scoring, cv=cv, n_jobs=-1, return_train_score=False)\n",
        "summary = {k: (np.mean(v), np.std(v)) for k, v in cv_res.items() if k.startswith(\"test_\")}\n",
        "print({metric.replace(\"test_\",\"\"): f\"{m:.3f} ± {s:.3f}\" for metric, (m,s) in summary.items()})\n",
        "\n",
        "# --- 6) Fit on full train and predict this week (optional) ---\n",
        "pipe.fit(X, y)\n",
        "print()\n",
        "if not df_future.empty:\n",
        "    X_future = df_future[use_cols].copy()\n",
        "    # Imputation/encoding happen inside .predict/.predict_proba\n",
        "    probs = pipe.predict_proba(X_future)[:,1]\n",
        "    picks = (probs >= 0.5).astype(int)\n",
        "    out = df_future.assign(pred_prob=probs, home_cover=picks)\n",
        "    print(out[[\"home_team\", \"away_team\", \"spread\",\"home_cover\", \"pred_prob\"]])\n"
      ]
    }
  ],
  "metadata": {
    "colab": {
      "provenance": []
    },
    "kernelspec": {
      "display_name": "Python 3",
      "name": "python3"
    },
    "language_info": {
      "name": "python"
    }
  },
  "nbformat": 4,
  "nbformat_minor": 0
}
